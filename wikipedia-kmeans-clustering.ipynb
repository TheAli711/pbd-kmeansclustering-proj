{
 "cells": [
  {
   "cell_type": "code",
   "execution_count": 3,
   "id": "095fe6ca",
   "metadata": {},
   "outputs": [],
   "source": [
    "import os\n",
    "import time\n",
    "from sklearn.feature_extraction.text import TfidfVectorizer\n",
    "from sklearn.cluster import KMeans\n",
    "import threading"
   ]
  },
  {
   "cell_type": "code",
   "execution_count": null,
   "id": "8328d3a7",
   "metadata": {},
   "outputs": [
    {
     "name": "stdout",
     "output_type": "stream",
     "text": [
      "Time Taken to do TF-IDF: 59.947728633880615\n"
     ]
    }
   ],
   "source": [
    "# This code assums that you have articles in the folder named \"articles\" on the same level as this file.\n",
    "paths = os.listdir(\"./articles\")\n",
    "current_directory = os.getcwd()\n",
    "abs_paths = [current_directory +\"/articles/\"+s for s in paths]\n",
    "start = time.time()\n",
    "tfidf = TfidfVectorizer(input='filename', strip_accents=\"unicode\", stop_words=\"english\")\n",
    "tfidf = tfidf.fit_transform(abs_paths[slice(0,50)])\n",
    "end = time.time()\n",
    "duration = end-start\n",
    "print(\"Time Taken to do TF-IDF: \" + str(duration))\n",
    "start = time.time()\n",
    "kmeans =  KMeans(n_clusters=8)\n",
    "kmeans.fit(tfidf)\n",
    "end = time.time()\n",
    "duration = end-start\n",
    "print(\"Time Taken to do KMeans Clustering: \" + str(duration))\n",
    "freq = {}\n",
    "for item in kmeans.labels_:\n",
    "    if (item in freq):\n",
    "       freq[item] += 1\n",
    "    else:\n",
    "        freq[item] = 1\n",
    "\n",
    "print(\"Cluster : Number of Articles\")\n",
    "for key, value in freq.items():\n",
    "    print (\"% d \\t: % d\"%(key, value))"
   ]
  }
 ],
 "metadata": {
  "kernelspec": {
   "display_name": "Python 3 (ipykernel)",
   "language": "python",
   "name": "python3"
  },
  "language_info": {
   "codemirror_mode": {
    "name": "ipython",
    "version": 3
   },
   "file_extension": ".py",
   "mimetype": "text/x-python",
   "name": "python",
   "nbconvert_exporter": "python",
   "pygments_lexer": "ipython3",
   "version": "3.9.7"
  }
 },
 "nbformat": 4,
 "nbformat_minor": 5
}
